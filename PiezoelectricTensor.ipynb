{
 "cells": [
  {
   "cell_type": "markdown",
   "metadata": {},
   "source": [
    "# Piezoelectric tensor calculator\n",
    "Script script used to express piezoelectric tensor in laboratory coordinate system $d_{ij}^{Lab}$ with piezoelectric tensor in sample coordinate system $d_{ij}^{0}$.\n",
    "\n",
    "Created by Lima Zhou (limazhou@outlook.com).\n",
    "\n",
    "Please double check."
   ]
  },
  {
   "cell_type": "markdown",
   "metadata": {},
   "source": [
    "### Imports"
   ]
  },
  {
   "cell_type": "code",
   "execution_count": null,
   "metadata": {},
   "outputs": [],
   "source": [
    "from sympy import pprint, cos, sin, exp, Matrix, symbols, simplify, rad\n",
    "from sympy.abc import theta, phi, psi \n",
    "import math"
   ]
  },
  {
   "cell_type": "markdown",
   "metadata": {},
   "source": [
    "### Functions"
   ]
  },
  {
   "cell_type": "code",
   "execution_count": null,
   "metadata": {},
   "outputs": [],
   "source": [
    "# Function to get the name of the matrix\n",
    "def find_variable_name(value):\n",
    "    for name, val in globals().items():\n",
    "        if val is value:\n",
    "            return name\n",
    "        \n",
    "# Asks if you want to input angles, φ = 0°\n",
    "def get_user_input():\n",
    "    global user_input_yn\n",
    "    user_input = input(\"Type 'y' if you want to enter angles, or 'n' to do nothing: \")\n",
    "\n",
    "    if user_input == 'y':\n",
    "        global theta, psi\n",
    "        try:\n",
    "            # Take user input for angles θ and ψ\n",
    "            theta_input = float(input(\"Enter the angle for θ in degrees: \"))\n",
    "            psi_input = float(input(\"Enter the angle for ψ in degrees: \"))\n",
    "            \n",
    "            # Convert angles to radians\n",
    "            theta = rad(theta_input)\n",
    "            psi = rad(psi_input)\n",
    "            \n",
    "            user_input_yn = 0\n",
    "            \n",
    "        except ValueError:\n",
    "            print(\"Invalid input. Please enter a valid number for the angles.\")\n",
    "            get_user_input()\n",
    "\n",
    "    elif user_input == 'n':\n",
    "        user_input_yn = 1\n",
    "\n",
    "    else:\n",
    "        print(\"Wrong input. Please enter 'y' or 'n'.\")\n",
    "        get_user_input()\n",
    "\n",
    "def calculate_d_lab(matrix_AP, matrix_N, user_input_yn):\n",
    "    # Define colors\n",
    "    BLUE = '\\033[94m'\n",
    "    RED = '\\033[91m'\n",
    "    GREEN = '\\033[92m'\n",
    "    BOLD = '\\033[1m'\n",
    "    UNBOLD = '\\033[22m'\n",
    "    RESET = '\\033[0m'\n",
    "        \n",
    "    coefficient_d33 = matrix_AP.row(2).dot(matrix_N.col(2))\n",
    "    coefficient_d34 = matrix_AP.row(2).dot(matrix_N.col(3))\n",
    "    coefficient_d35 = matrix_AP.row(2).dot(matrix_N.col(4))\n",
    "        \n",
    "    # Print coefficients in blue, red, and green\n",
    "    print(f\"\\n{BOLD}{BLUE}Result: d₃₃ᴸᵃᵇ ={UNBOLD}\")\n",
    "    pprint(coefficient_d33)\n",
    "    print(f\"\\n{BOLD}{RED}Result: d₃₄ᴸᵃᵇ ={UNBOLD}\")\n",
    "    pprint(coefficient_d34)\n",
    "    print(f\"\\n{BOLD}{GREEN}Result: d₃₅ᴸᵃᵇ ={UNBOLD}\")\n",
    "    pprint(coefficient_d35)\n",
    "    print(RESET)\n",
    "    \n",
    "    # Check user input and print simplified results in the respective colors\n",
    "    if user_input_yn:\n",
    "        print(\"\\n-------------------------------------------------------------------\\n\")\n",
    "        simplified_d33 = coefficient_d33.simplify()\n",
    "        simplified_d34 = coefficient_d34.simplify()\n",
    "        simplified_d35 = coefficient_d35.simplify()\n",
    "    \n",
    "        print(f\"\\n{BOLD}{BLUE}Simplified Result: d₃₃ᴸᵃᵇ ={UNBOLD}\")\n",
    "        pprint(simplified_d33)\n",
    "        print(f\"\\n{BOLD}{RED}Simplified Result: d₃₄ᴸᵃᵇ ={UNBOLD}\")\n",
    "        pprint(simplified_d34)\n",
    "        print(f\"\\n{BOLD}{GREEN}Simplified Result: d₃₅ᴸᵃᵇ ={UNBOLD}\")\n",
    "        pprint(simplified_d35)\n",
    "        print(RESET)"
   ]
  },
  {
   "cell_type": "markdown",
   "metadata": {},
   "source": [
    "### Piezoelectric constant tensor"
   ]
  },
  {
   "cell_type": "code",
   "execution_count": null,
   "metadata": {},
   "outputs": [],
   "source": [
    "# Assign specific symbols to individual variables\n",
    "d11, d12, d13, d14, d15, d16, d21, d22, d23, d24, d25, d26, d31, d32, d33, d34, d35, d36 = symbols('d₁₁⁰ d₁₂⁰ d₁₃⁰ d₁₄⁰ d₁₅⁰ d₁₆⁰ d₂₁⁰ d₂₂⁰ d₂₃⁰ d₂₄⁰ d₂₅⁰ d₂₆⁰ d₃₁⁰ d₃₂⁰ d₃₃⁰ d₃₄⁰ d₃₅⁰ d₃₆⁰')\n",
    "\n",
    "#Piezoelectric point groups\n",
    "PG_1 = Matrix([[d11, d12, d13, d14, d15, d16], [d21, d22, d23, d24, d25, d26], [d31, d32, d33, d34, d35, d36]])\n",
    "PG_2 = Matrix([[0, 0, 0, d14, 0, d16], [d21, d22, d23, 0, d25, 0], [0, 0, 0, d34, 0, d36]])\n",
    "PG_m = Matrix([[d11, d12, d13, 0, d15, 0], [0, 0, 0, d24, 0, d26], [d31, d32, d33, 0, d35, 0]])\n",
    "PG_mm2 = Matrix([[0, 0, 0, 0, d15, 0], [0, 0, 0, d24, 0, 0], [d31, d32, d33, 0, 0, 0]])\n",
    "PG_222 = Matrix([[0, 0, 0, d14, 0, 0], [0, 0, 0, 0, d25, 0], [0, 0, 0, 0, 0, d36]])\n",
    "PG_3 = Matrix([[d11, -d11, 0, d14, d15, -2*d22], [-d22, d22, 0, d15, -d14, 2*d11], [d31, d31, d33, 0, 0, 0]])\n",
    "PG_32 = Matrix([[d11, -d11, 0, d14, 0, 0], [0, 0, 0, 0, -d14, -2*d11], [0, 0, 0, 0, 0, 0]])\n",
    "PG_3m = Matrix([[0, 0, 0, 0, d15, -2*d22], [-d22, d22, 0, d15, 0, 0], [d31, d31, d33, 0, 0, 0]])\n",
    "PG_4_6_inf = Matrix([[0, 0, 0, d14, d15, 0], [0, 0, 0, d15, -d14, 0], [d31, d31, d33, 0, 0, 0]])\n",
    "PG_minus4 = Matrix([[0, 0, 0, d14, -d15, 0], [0, 0, 0, d25, d14, 0], [d31, -d31, 0, 0, 0, d36]])\n",
    "PG_4mm_6mm_infm = Matrix([[0, 0, 0, 0, d15, 0], [0, 0, 0, d15, 0, 0], [d31, d31, d33, 0, 0, 0]])\n",
    "PG_422_622_inf2 = Matrix([[0, 0, 0, d14, 0, 0], [0, 0, 0, 0, -d14, 0], [0, 0, 0, 0, 0, 0]])\n",
    "PG_minus42m = Matrix([[0, 0, 0, d14, 0, 0], [0, 0, 0, 0, d14, 0], [0, 0, 0, 0, 0, d36]])\n",
    "PG_minus6 = Matrix([[d11, -d11, 0, 0, 0, -2*d22], [-d22, d22, 0, 0, 0, -2*d11], [0, 0, 0, 0, 0, 0]])\n",
    "PG_minus6m2 = Matrix([[0, 0, 0, 0, 0, -2*d22], [-d22, d22, 0, 0, 0, 0], [0, 0, 0, 0, 0, 0]])\n",
    "PG_minus43m_23 = Matrix([[0, 0, 0, d14, 0, 0], [0, 0, 0, 0, d14, 0], [0, 0, 0, 0, 0, d14]])"
   ]
  },
  {
   "cell_type": "markdown",
   "metadata": {},
   "source": [
    "### Choose your pointgroup!"
   ]
  },
  {
   "cell_type": "markdown",
   "metadata": {},
   "source": [
    "see [Piezoelectric constant tensor](#Piezoelectric-constant-tensor)"
   ]
  },
  {
   "cell_type": "code",
   "execution_count": null,
   "metadata": {},
   "outputs": [],
   "source": [
    "matrix_pointgroup = PG_3m"
   ]
  },
  {
   "cell_type": "markdown",
   "metadata": {},
   "source": [
    "### Ouput"
   ]
  },
  {
   "cell_type": "code",
   "execution_count": null,
   "metadata": {},
   "outputs": [],
   "source": [
    "get_user_input()\n",
    "matrix_phi = Matrix([[cos(phi),sin(phi),0],[-sin(phi),cos(phi),0],[0,0,1]])\n",
    "matrix_theta = Matrix([[1,0,0],[0,cos(theta),sin(theta)],[0,-sin(theta),cos(theta)]])\n",
    "matrix_psi = Matrix([[cos(psi),sin(psi),0],[-sin(psi),cos(psi),0],[0,0,1]])\n",
    "\n",
    "# Transformation matrix A for φ = 0°\n",
    "matrix_A = matrix_theta * matrix_psi\n",
    "\n",
    "# Extract the aij-elements\n",
    "a11, a12, a13, a21, a22, a23, a31, a32, a33 = matrix_A[:3, :3].reshape(1, 9).tolist()[0]\n",
    "\n",
    "# Bond transformation matrix N\n",
    "matrix_N = Matrix([\n",
    "    [a11**2, a21**2, a31**2, 2*a21*a31, 2*a31*a11, 2*a11*a21],\n",
    "    [a12**2, a22**2, a32**2, 2*a22*a32, 2*a32*a12, 2*a12*a22],\n",
    "    [a13**2, a23**2, a33**2, 2*a23*a33, 2*a33*a13, 2*a13*a23],\n",
    "    [a12*a13, a22*a23, a32*a33, a22*a33 + a32*a23, a12*a33 + a32*a13, a22*a13 + a12*a23],\n",
    "    [a13*a11, a23*a21, a33*a31, a21*a33 + a31*a23, a31*a13 + a11*a33, a11*a23 + a21*a13],\n",
    "    [a11*a12, a21*a22, a31*a32, a21*a32 + a31*a22, a31*a12 + a11*a32, a11*a22 + a21*a12],\n",
    "])\n",
    "\n",
    "print(\"The point group is: \" + find_variable_name(matrix_pointgroup))\n",
    "print(\"\\n-------------------------------------------------------------------\\n\")\n",
    "\n",
    "# Multiplies piezoelectric tensor with transformation matrix A\n",
    "matrix_AP = matrix_A * matrix_pointgroup\n",
    "calculate_d_lab(matrix_AP, matrix_N, user_input_yn)\n",
    "    \n",
    "print(\"\\n-------------------------------------------------------------------\\n\")"
   ]
  }
 ],
 "metadata": {
  "kernelspec": {
   "display_name": "Python 3 (ipykernel)",
   "language": "python",
   "name": "python3"
  },
  "language_info": {
   "codemirror_mode": {
    "name": "ipython",
    "version": 3
   },
   "file_extension": ".py",
   "mimetype": "text/x-python",
   "name": "python",
   "nbconvert_exporter": "python",
   "pygments_lexer": "ipython3",
   "version": "3.11.5"
  }
 },
 "nbformat": 4,
 "nbformat_minor": 2
}
